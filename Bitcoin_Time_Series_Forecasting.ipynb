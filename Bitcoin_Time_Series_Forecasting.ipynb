{
  "nbformat": 4,
  "nbformat_minor": 0,
  "metadata": {
    "colab": {
      "provenance": [],
      "toc_visible": true,
      "gpuType": "T4"
    },
    "kernelspec": {
      "name": "python3",
      "display_name": "Python 3"
    },
    "language_info": {
      "name": "python"
    },
    "accelerator": "GPU"
  },
  "cells": [
    {
      "cell_type": "markdown",
      "source": [
        "# Bitcoin Time Series Forecasting with RNN & LSTM"
      ],
      "metadata": {
        "id": "vY5Uuyra82_2"
      }
    },
    {
      "cell_type": "markdown",
      "source": [
        "## Project Overview"
      ],
      "metadata": {
        "id": "ZqAyFbVV-mof"
      }
    },
    {
      "cell_type": "markdown",
      "source": [
        "Bitcoin adalah cryptocurrency paling lama berjalan dan paling terkenal, pertama kali dirilis sebagai open source pada tahun 2009 oleh Satoshi Nakamoto anonim. Bitcoin berfungsi sebagai media pertukaran digital yang terdesentralisasi, dengan transaksi diverifikasi dan dicatat dalam buku besar yang didistribusikan secara publik (blockchain) tanpa memerlukan otoritas pencatatan tepercaya atau perantara pusat. Blok transaksi berisi hash kriptografi SHA-256 dari blok transaksi sebelumnya, dan dengan demikian \"dirantai\" bersama, berfungsi sebagai catatan abadi dari semua transaksi yang pernah terjadi. Seperti halnya mata uang/komoditas apa pun di pasar, perdagangan bitcoin dan instrumen keuangan segera mengikuti adopsi bitcoin oleh publik dan terus berkembang. Jika Anda belum mengetahui apa itu Bitcoin, maka dapatkan beberapa pengetahuan tentang Bitcoin di sini."
      ],
      "metadata": {
        "id": "7aM_HRq5-4t9"
      }
    },
    {
      "cell_type": "markdown",
      "source": [
        "## IMPORT DATA & MODULE"
      ],
      "metadata": {
        "id": "SpKMytDJ4Zv-"
      }
    },
    {
      "cell_type": "markdown",
      "source": [
        "### Load data menggunakan API KAGGLE"
      ],
      "metadata": {
        "id": "NSqZlgwH5Okh"
      }
    },
    {
      "cell_type": "code",
      "execution_count": 1,
      "metadata": {
        "id": "N-qXVfqL1oys",
        "colab": {
          "base_uri": "https://localhost:8080/",
          "height": 88
        },
        "outputId": "05012bdd-8d4b-4e33-862e-c85a2c125d6c"
      },
      "outputs": [
        {
          "output_type": "display_data",
          "data": {
            "text/plain": [
              "<IPython.core.display.HTML object>"
            ],
            "text/html": [
              "\n",
              "     <input type=\"file\" id=\"files-f0cc2c99-ffdf-412c-b790-9faa2ec5df1d\" name=\"files[]\" multiple disabled\n",
              "        style=\"border:none\" />\n",
              "     <output id=\"result-f0cc2c99-ffdf-412c-b790-9faa2ec5df1d\">\n",
              "      Upload widget is only available when the cell has been executed in the\n",
              "      current browser session. Please rerun this cell to enable.\n",
              "      </output>\n",
              "      <script>// Copyright 2017 Google LLC\n",
              "//\n",
              "// Licensed under the Apache License, Version 2.0 (the \"License\");\n",
              "// you may not use this file except in compliance with the License.\n",
              "// You may obtain a copy of the License at\n",
              "//\n",
              "//      http://www.apache.org/licenses/LICENSE-2.0\n",
              "//\n",
              "// Unless required by applicable law or agreed to in writing, software\n",
              "// distributed under the License is distributed on an \"AS IS\" BASIS,\n",
              "// WITHOUT WARRANTIES OR CONDITIONS OF ANY KIND, either express or implied.\n",
              "// See the License for the specific language governing permissions and\n",
              "// limitations under the License.\n",
              "\n",
              "/**\n",
              " * @fileoverview Helpers for google.colab Python module.\n",
              " */\n",
              "(function(scope) {\n",
              "function span(text, styleAttributes = {}) {\n",
              "  const element = document.createElement('span');\n",
              "  element.textContent = text;\n",
              "  for (const key of Object.keys(styleAttributes)) {\n",
              "    element.style[key] = styleAttributes[key];\n",
              "  }\n",
              "  return element;\n",
              "}\n",
              "\n",
              "// Max number of bytes which will be uploaded at a time.\n",
              "const MAX_PAYLOAD_SIZE = 100 * 1024;\n",
              "\n",
              "function _uploadFiles(inputId, outputId) {\n",
              "  const steps = uploadFilesStep(inputId, outputId);\n",
              "  const outputElement = document.getElementById(outputId);\n",
              "  // Cache steps on the outputElement to make it available for the next call\n",
              "  // to uploadFilesContinue from Python.\n",
              "  outputElement.steps = steps;\n",
              "\n",
              "  return _uploadFilesContinue(outputId);\n",
              "}\n",
              "\n",
              "// This is roughly an async generator (not supported in the browser yet),\n",
              "// where there are multiple asynchronous steps and the Python side is going\n",
              "// to poll for completion of each step.\n",
              "// This uses a Promise to block the python side on completion of each step,\n",
              "// then passes the result of the previous step as the input to the next step.\n",
              "function _uploadFilesContinue(outputId) {\n",
              "  const outputElement = document.getElementById(outputId);\n",
              "  const steps = outputElement.steps;\n",
              "\n",
              "  const next = steps.next(outputElement.lastPromiseValue);\n",
              "  return Promise.resolve(next.value.promise).then((value) => {\n",
              "    // Cache the last promise value to make it available to the next\n",
              "    // step of the generator.\n",
              "    outputElement.lastPromiseValue = value;\n",
              "    return next.value.response;\n",
              "  });\n",
              "}\n",
              "\n",
              "/**\n",
              " * Generator function which is called between each async step of the upload\n",
              " * process.\n",
              " * @param {string} inputId Element ID of the input file picker element.\n",
              " * @param {string} outputId Element ID of the output display.\n",
              " * @return {!Iterable<!Object>} Iterable of next steps.\n",
              " */\n",
              "function* uploadFilesStep(inputId, outputId) {\n",
              "  const inputElement = document.getElementById(inputId);\n",
              "  inputElement.disabled = false;\n",
              "\n",
              "  const outputElement = document.getElementById(outputId);\n",
              "  outputElement.innerHTML = '';\n",
              "\n",
              "  const pickedPromise = new Promise((resolve) => {\n",
              "    inputElement.addEventListener('change', (e) => {\n",
              "      resolve(e.target.files);\n",
              "    });\n",
              "  });\n",
              "\n",
              "  const cancel = document.createElement('button');\n",
              "  inputElement.parentElement.appendChild(cancel);\n",
              "  cancel.textContent = 'Cancel upload';\n",
              "  const cancelPromise = new Promise((resolve) => {\n",
              "    cancel.onclick = () => {\n",
              "      resolve(null);\n",
              "    };\n",
              "  });\n",
              "\n",
              "  // Wait for the user to pick the files.\n",
              "  const files = yield {\n",
              "    promise: Promise.race([pickedPromise, cancelPromise]),\n",
              "    response: {\n",
              "      action: 'starting',\n",
              "    }\n",
              "  };\n",
              "\n",
              "  cancel.remove();\n",
              "\n",
              "  // Disable the input element since further picks are not allowed.\n",
              "  inputElement.disabled = true;\n",
              "\n",
              "  if (!files) {\n",
              "    return {\n",
              "      response: {\n",
              "        action: 'complete',\n",
              "      }\n",
              "    };\n",
              "  }\n",
              "\n",
              "  for (const file of files) {\n",
              "    const li = document.createElement('li');\n",
              "    li.append(span(file.name, {fontWeight: 'bold'}));\n",
              "    li.append(span(\n",
              "        `(${file.type || 'n/a'}) - ${file.size} bytes, ` +\n",
              "        `last modified: ${\n",
              "            file.lastModifiedDate ? file.lastModifiedDate.toLocaleDateString() :\n",
              "                                    'n/a'} - `));\n",
              "    const percent = span('0% done');\n",
              "    li.appendChild(percent);\n",
              "\n",
              "    outputElement.appendChild(li);\n",
              "\n",
              "    const fileDataPromise = new Promise((resolve) => {\n",
              "      const reader = new FileReader();\n",
              "      reader.onload = (e) => {\n",
              "        resolve(e.target.result);\n",
              "      };\n",
              "      reader.readAsArrayBuffer(file);\n",
              "    });\n",
              "    // Wait for the data to be ready.\n",
              "    let fileData = yield {\n",
              "      promise: fileDataPromise,\n",
              "      response: {\n",
              "        action: 'continue',\n",
              "      }\n",
              "    };\n",
              "\n",
              "    // Use a chunked sending to avoid message size limits. See b/62115660.\n",
              "    let position = 0;\n",
              "    do {\n",
              "      const length = Math.min(fileData.byteLength - position, MAX_PAYLOAD_SIZE);\n",
              "      const chunk = new Uint8Array(fileData, position, length);\n",
              "      position += length;\n",
              "\n",
              "      const base64 = btoa(String.fromCharCode.apply(null, chunk));\n",
              "      yield {\n",
              "        response: {\n",
              "          action: 'append',\n",
              "          file: file.name,\n",
              "          data: base64,\n",
              "        },\n",
              "      };\n",
              "\n",
              "      let percentDone = fileData.byteLength === 0 ?\n",
              "          100 :\n",
              "          Math.round((position / fileData.byteLength) * 100);\n",
              "      percent.textContent = `${percentDone}% done`;\n",
              "\n",
              "    } while (position < fileData.byteLength);\n",
              "  }\n",
              "\n",
              "  // All done.\n",
              "  yield {\n",
              "    response: {\n",
              "      action: 'complete',\n",
              "    }\n",
              "  };\n",
              "}\n",
              "\n",
              "scope.google = scope.google || {};\n",
              "scope.google.colab = scope.google.colab || {};\n",
              "scope.google.colab._files = {\n",
              "  _uploadFiles,\n",
              "  _uploadFilesContinue,\n",
              "};\n",
              "})(self);\n",
              "</script> "
            ]
          },
          "metadata": {}
        },
        {
          "output_type": "stream",
          "name": "stdout",
          "text": [
            "Saving kaggle.json to kaggle.json\n"
          ]
        },
        {
          "output_type": "execute_result",
          "data": {
            "text/plain": [
              "{'kaggle.json': b'{\"username\":\"syahmisajid12\",\"key\":\"****************\"}'}"
            ]
          },
          "metadata": {},
          "execution_count": 1
        }
      ],
      "source": [
        "# C:\\Users\\USER\\.kaggle\n",
        "from google.colab import files\n",
        "files.upload()"
      ]
    },
    {
      "cell_type": "code",
      "source": [
        "!mkdir ~/.kaggle\n",
        "!cp kaggle.json ~/.kaggle/"
      ],
      "metadata": {
        "id": "hZ4c9mSX5LuW"
      },
      "execution_count": 2,
      "outputs": []
    },
    {
      "cell_type": "markdown",
      "source": [
        "Load Data dari Kaggle"
      ],
      "metadata": {
        "id": "sD6IGqR07JO4"
      }
    },
    {
      "cell_type": "code",
      "source": [
        "!kaggle datasets download -d mczielinski/bitcoin-historical-data"
      ],
      "metadata": {
        "colab": {
          "base_uri": "https://localhost:8080/"
        },
        "id": "A4KJjvQL7DbM",
        "outputId": "62de2400-5675-4623-ce64-72912e7d18c4"
      },
      "execution_count": 3,
      "outputs": [
        {
          "output_type": "stream",
          "name": "stdout",
          "text": [
            "Warning: Your Kaggle API key is readable by other users on this system! To fix this, you can run 'chmod 600 /root/.kaggle/kaggle.json'\n",
            "Downloading bitcoin-historical-data.zip to /content\n",
            " 82% 82.0M/100M [00:00<00:00, 85.6MB/s]\n",
            "100% 100M/100M [00:01<00:00, 102MB/s]  \n"
          ]
        }
      ]
    },
    {
      "cell_type": "markdown",
      "source": [
        "Import Module"
      ],
      "metadata": {
        "id": "VHSpJgR1Wkng"
      }
    },
    {
      "cell_type": "code",
      "source": [
        "import tensorflow as tf\n",
        "import pandas as pd\n",
        "import numpy as np\n",
        "import matplotlib.pyplot as plt\n",
        "import seaborn as sns"
      ],
      "metadata": {
        "id": "SXf3mJc37LvO"
      },
      "execution_count": 4,
      "outputs": []
    },
    {
      "cell_type": "markdown",
      "source": [
        "Import Function"
      ],
      "metadata": {
        "id": "EKsxikumWnVL"
      }
    },
    {
      "cell_type": "code",
      "source": [
        "# Get helper_functions.py script from course GitHub\n",
        "!wget https://raw.githubusercontent.com/Syahmi33github/Emotion-Classification/main/helper_functions.py\n",
        "\n",
        "# Import helper functions we're going to use\n",
        "from helper_functions import unzip_data"
      ],
      "metadata": {
        "colab": {
          "base_uri": "https://localhost:8080/"
        },
        "id": "-D6ZGvMT7ORk",
        "outputId": "9a400972-ddd0-4a6d-f28b-2d05c405854c"
      },
      "execution_count": 5,
      "outputs": [
        {
          "output_type": "stream",
          "name": "stdout",
          "text": [
            "--2023-06-24 12:22:23--  https://raw.githubusercontent.com/Syahmi33github/Emotion-Classification/main/helper_functions.py\n",
            "Resolving raw.githubusercontent.com (raw.githubusercontent.com)... 185.199.111.133, 185.199.109.133, 185.199.108.133, ...\n",
            "Connecting to raw.githubusercontent.com (raw.githubusercontent.com)|185.199.111.133|:443... connected.\n",
            "HTTP request sent, awaiting response... 200 OK\n",
            "Length: 11485 (11K) [text/plain]\n",
            "Saving to: ‘helper_functions.py’\n",
            "\n",
            "\rhelper_functions.py   0%[                    ]       0  --.-KB/s               \rhelper_functions.py 100%[===================>]  11.22K  --.-KB/s    in 0s      \n",
            "\n",
            "2023-06-24 12:22:24 (75.3 MB/s) - ‘helper_functions.py’ saved [11485/11485]\n",
            "\n"
          ]
        }
      ]
    },
    {
      "cell_type": "markdown",
      "source": [
        "## Exploratory Data Analysis"
      ],
      "metadata": {
        "id": "68sz8Z657VBU"
      }
    },
    {
      "cell_type": "code",
      "source": [
        "unzip_data(\"/content/bitcoin-historical-data.zip\")"
      ],
      "metadata": {
        "id": "7QoyHMcf7SPC"
      },
      "execution_count": 6,
      "outputs": []
    },
    {
      "cell_type": "code",
      "source": [
        "df = pd.read_csv('/content/bitstampUSD_1-min_data_2012-01-01_to_2021-03-31.csv')\n",
        "df.head()"
      ],
      "metadata": {
        "colab": {
          "base_uri": "https://localhost:8080/",
          "height": 206
        },
        "id": "rqvupOKL7eR1",
        "outputId": "7c0976d0-eda6-495d-c321-d0be8413217d"
      },
      "execution_count": 7,
      "outputs": [
        {
          "output_type": "execute_result",
          "data": {
            "text/plain": [
              "    Timestamp  Open  High   Low  Close  Volume_(BTC)  Volume_(Currency)  \\\n",
              "0  1325317920  4.39  4.39  4.39   4.39      0.455581                2.0   \n",
              "1  1325317980   NaN   NaN   NaN    NaN           NaN                NaN   \n",
              "2  1325318040   NaN   NaN   NaN    NaN           NaN                NaN   \n",
              "3  1325318100   NaN   NaN   NaN    NaN           NaN                NaN   \n",
              "4  1325318160   NaN   NaN   NaN    NaN           NaN                NaN   \n",
              "\n",
              "   Weighted_Price  \n",
              "0            4.39  \n",
              "1             NaN  \n",
              "2             NaN  \n",
              "3             NaN  \n",
              "4             NaN  "
            ],
            "text/html": [
              "\n",
              "  <div id=\"df-69c690e6-979f-4974-97db-dfe4ff1a7b7a\">\n",
              "    <div class=\"colab-df-container\">\n",
              "      <div>\n",
              "<style scoped>\n",
              "    .dataframe tbody tr th:only-of-type {\n",
              "        vertical-align: middle;\n",
              "    }\n",
              "\n",
              "    .dataframe tbody tr th {\n",
              "        vertical-align: top;\n",
              "    }\n",
              "\n",
              "    .dataframe thead th {\n",
              "        text-align: right;\n",
              "    }\n",
              "</style>\n",
              "<table border=\"1\" class=\"dataframe\">\n",
              "  <thead>\n",
              "    <tr style=\"text-align: right;\">\n",
              "      <th></th>\n",
              "      <th>Timestamp</th>\n",
              "      <th>Open</th>\n",
              "      <th>High</th>\n",
              "      <th>Low</th>\n",
              "      <th>Close</th>\n",
              "      <th>Volume_(BTC)</th>\n",
              "      <th>Volume_(Currency)</th>\n",
              "      <th>Weighted_Price</th>\n",
              "    </tr>\n",
              "  </thead>\n",
              "  <tbody>\n",
              "    <tr>\n",
              "      <th>0</th>\n",
              "      <td>1325317920</td>\n",
              "      <td>4.39</td>\n",
              "      <td>4.39</td>\n",
              "      <td>4.39</td>\n",
              "      <td>4.39</td>\n",
              "      <td>0.455581</td>\n",
              "      <td>2.0</td>\n",
              "      <td>4.39</td>\n",
              "    </tr>\n",
              "    <tr>\n",
              "      <th>1</th>\n",
              "      <td>1325317980</td>\n",
              "      <td>NaN</td>\n",
              "      <td>NaN</td>\n",
              "      <td>NaN</td>\n",
              "      <td>NaN</td>\n",
              "      <td>NaN</td>\n",
              "      <td>NaN</td>\n",
              "      <td>NaN</td>\n",
              "    </tr>\n",
              "    <tr>\n",
              "      <th>2</th>\n",
              "      <td>1325318040</td>\n",
              "      <td>NaN</td>\n",
              "      <td>NaN</td>\n",
              "      <td>NaN</td>\n",
              "      <td>NaN</td>\n",
              "      <td>NaN</td>\n",
              "      <td>NaN</td>\n",
              "      <td>NaN</td>\n",
              "    </tr>\n",
              "    <tr>\n",
              "      <th>3</th>\n",
              "      <td>1325318100</td>\n",
              "      <td>NaN</td>\n",
              "      <td>NaN</td>\n",
              "      <td>NaN</td>\n",
              "      <td>NaN</td>\n",
              "      <td>NaN</td>\n",
              "      <td>NaN</td>\n",
              "      <td>NaN</td>\n",
              "    </tr>\n",
              "    <tr>\n",
              "      <th>4</th>\n",
              "      <td>1325318160</td>\n",
              "      <td>NaN</td>\n",
              "      <td>NaN</td>\n",
              "      <td>NaN</td>\n",
              "      <td>NaN</td>\n",
              "      <td>NaN</td>\n",
              "      <td>NaN</td>\n",
              "      <td>NaN</td>\n",
              "    </tr>\n",
              "  </tbody>\n",
              "</table>\n",
              "</div>\n",
              "      <button class=\"colab-df-convert\" onclick=\"convertToInteractive('df-69c690e6-979f-4974-97db-dfe4ff1a7b7a')\"\n",
              "              title=\"Convert this dataframe to an interactive table.\"\n",
              "              style=\"display:none;\">\n",
              "        \n",
              "  <svg xmlns=\"http://www.w3.org/2000/svg\" height=\"24px\"viewBox=\"0 0 24 24\"\n",
              "       width=\"24px\">\n",
              "    <path d=\"M0 0h24v24H0V0z\" fill=\"none\"/>\n",
              "    <path d=\"M18.56 5.44l.94 2.06.94-2.06 2.06-.94-2.06-.94-.94-2.06-.94 2.06-2.06.94zm-11 1L8.5 8.5l.94-2.06 2.06-.94-2.06-.94L8.5 2.5l-.94 2.06-2.06.94zm10 10l.94 2.06.94-2.06 2.06-.94-2.06-.94-.94-2.06-.94 2.06-2.06.94z\"/><path d=\"M17.41 7.96l-1.37-1.37c-.4-.4-.92-.59-1.43-.59-.52 0-1.04.2-1.43.59L10.3 9.45l-7.72 7.72c-.78.78-.78 2.05 0 2.83L4 21.41c.39.39.9.59 1.41.59.51 0 1.02-.2 1.41-.59l7.78-7.78 2.81-2.81c.8-.78.8-2.07 0-2.86zM5.41 20L4 18.59l7.72-7.72 1.47 1.35L5.41 20z\"/>\n",
              "  </svg>\n",
              "      </button>\n",
              "      \n",
              "  <style>\n",
              "    .colab-df-container {\n",
              "      display:flex;\n",
              "      flex-wrap:wrap;\n",
              "      gap: 12px;\n",
              "    }\n",
              "\n",
              "    .colab-df-convert {\n",
              "      background-color: #E8F0FE;\n",
              "      border: none;\n",
              "      border-radius: 50%;\n",
              "      cursor: pointer;\n",
              "      display: none;\n",
              "      fill: #1967D2;\n",
              "      height: 32px;\n",
              "      padding: 0 0 0 0;\n",
              "      width: 32px;\n",
              "    }\n",
              "\n",
              "    .colab-df-convert:hover {\n",
              "      background-color: #E2EBFA;\n",
              "      box-shadow: 0px 1px 2px rgba(60, 64, 67, 0.3), 0px 1px 3px 1px rgba(60, 64, 67, 0.15);\n",
              "      fill: #174EA6;\n",
              "    }\n",
              "\n",
              "    [theme=dark] .colab-df-convert {\n",
              "      background-color: #3B4455;\n",
              "      fill: #D2E3FC;\n",
              "    }\n",
              "\n",
              "    [theme=dark] .colab-df-convert:hover {\n",
              "      background-color: #434B5C;\n",
              "      box-shadow: 0px 1px 3px 1px rgba(0, 0, 0, 0.15);\n",
              "      filter: drop-shadow(0px 1px 2px rgba(0, 0, 0, 0.3));\n",
              "      fill: #FFFFFF;\n",
              "    }\n",
              "  </style>\n",
              "\n",
              "      <script>\n",
              "        const buttonEl =\n",
              "          document.querySelector('#df-69c690e6-979f-4974-97db-dfe4ff1a7b7a button.colab-df-convert');\n",
              "        buttonEl.style.display =\n",
              "          google.colab.kernel.accessAllowed ? 'block' : 'none';\n",
              "\n",
              "        async function convertToInteractive(key) {\n",
              "          const element = document.querySelector('#df-69c690e6-979f-4974-97db-dfe4ff1a7b7a');\n",
              "          const dataTable =\n",
              "            await google.colab.kernel.invokeFunction('convertToInteractive',\n",
              "                                                     [key], {});\n",
              "          if (!dataTable) return;\n",
              "\n",
              "          const docLinkHtml = 'Like what you see? Visit the ' +\n",
              "            '<a target=\"_blank\" href=https://colab.research.google.com/notebooks/data_table.ipynb>data table notebook</a>'\n",
              "            + ' to learn more about interactive tables.';\n",
              "          element.innerHTML = '';\n",
              "          dataTable['output_type'] = 'display_data';\n",
              "          await google.colab.output.renderOutput(dataTable, element);\n",
              "          const docLink = document.createElement('div');\n",
              "          docLink.innerHTML = docLinkHtml;\n",
              "          element.appendChild(docLink);\n",
              "        }\n",
              "      </script>\n",
              "    </div>\n",
              "  </div>\n",
              "  "
            ]
          },
          "metadata": {},
          "execution_count": 7
        }
      ]
    },
    {
      "cell_type": "code",
      "source": [
        "df.columns"
      ],
      "metadata": {
        "colab": {
          "base_uri": "https://localhost:8080/"
        },
        "id": "fKKSCKf37qsV",
        "outputId": "3b515d70-fd92-4bf5-a6fc-70f7b80082a4"
      },
      "execution_count": 8,
      "outputs": [
        {
          "output_type": "execute_result",
          "data": {
            "text/plain": [
              "Index(['Timestamp', 'Open', 'High', 'Low', 'Close', 'Volume_(BTC)',\n",
              "       'Volume_(Currency)', 'Weighted_Price'],\n",
              "      dtype='object')"
            ]
          },
          "metadata": {},
          "execution_count": 8
        }
      ]
    },
    {
      "cell_type": "code",
      "source": [
        "df.shape"
      ],
      "metadata": {
        "colab": {
          "base_uri": "https://localhost:8080/"
        },
        "id": "Q9cgbF4M7vAU",
        "outputId": "884d37cc-12ee-4788-db01-569eefd805e9"
      },
      "execution_count": 9,
      "outputs": [
        {
          "output_type": "execute_result",
          "data": {
            "text/plain": [
              "(4857377, 8)"
            ]
          },
          "metadata": {},
          "execution_count": 9
        }
      ]
    },
    {
      "cell_type": "code",
      "execution_count": 10,
      "metadata": {
        "colab": {
          "base_uri": "https://localhost:8080/"
        },
        "id": "UxeGXxYa8tjf",
        "outputId": "dbec8610-db52-4b3e-f6df-f20833ba246b"
      },
      "outputs": [
        {
          "output_type": "execute_result",
          "data": {
            "text/plain": [
              "date\n",
              "2011-12-31    4.482500\n",
              "2012-01-01    4.806667\n",
              "2012-01-02    5.000000\n",
              "2012-01-03    5.252500\n",
              "2012-01-04    5.223333\n",
              "2012-01-05    6.286190\n",
              "2012-01-06    6.445000\n",
              "2012-01-07    6.800000\n",
              "2012-01-08    6.950000\n",
              "2012-01-09    6.581667\n",
              "Name: Close, dtype: float64"
            ]
          },
          "metadata": {},
          "execution_count": 10
        }
      ],
      "source": [
        "bit_data = df.copy()\n",
        "bit_data[\"date\"]=pd.to_datetime(bit_data[\"Timestamp\"],unit=\"s\").dt.date\n",
        "group=bit_data.groupby(\"date\")\n",
        "data=group[\"Close\"].mean()\n",
        "data.head(10)"
      ]
    },
    {
      "cell_type": "code",
      "source": [
        "data.shape"
      ],
      "metadata": {
        "colab": {
          "base_uri": "https://localhost:8080/"
        },
        "id": "uJVLnBpu--Q6",
        "outputId": "23db53e0-2b77-43d2-9be1-302d911f2c90"
      },
      "execution_count": 11,
      "outputs": [
        {
          "output_type": "execute_result",
          "data": {
            "text/plain": [
              "(3376,)"
            ]
          },
          "metadata": {},
          "execution_count": 11
        }
      ]
    },
    {
      "cell_type": "code",
      "source": [
        "data.isnull().sum()"
      ],
      "metadata": {
        "colab": {
          "base_uri": "https://localhost:8080/"
        },
        "id": "35CU4KZOC06J",
        "outputId": "01078858-efde-4510-cbd7-819f5ec2bbed"
      },
      "execution_count": 12,
      "outputs": [
        {
          "output_type": "execute_result",
          "data": {
            "text/plain": [
              "0"
            ]
          },
          "metadata": {},
          "execution_count": 12
        }
      ]
    },
    {
      "cell_type": "code",
      "source": [
        "import matplotlib.pyplot as plt\n",
        "data.plot(figsize=(10, 7))\n",
        "plt.ylabel(\"BTC Price\")\n",
        "plt.title(\"Price of Bitcoin from 1 Oct 2013 to 18 May 2021\", fontsize=16)\n",
        "plt.legend(fontsize=14);"
      ],
      "metadata": {
        "colab": {
          "base_uri": "https://localhost:8080/",
          "height": 643
        },
        "id": "FkUqXNXVLx8-",
        "outputId": "0e42e3a6-ecca-4fe3-9150-fbab143def43"
      },
      "execution_count": 13,
      "outputs": [
        {
          "output_type": "display_data",
          "data": {
            "text/plain": [
              "<Figure size 1000x700 with 1 Axes>"
            ],
            "image/png": "[encoded data removed]"
          },
          "metadata": {}
        }
      ]
    },
    {
      "cell_type": "markdown",
      "source": [
        "## Data Pre Processing"
      ],
      "metadata": {
        "id": "0e__JlQPMGRW"
      }
    },
    {
      "cell_type": "code",
      "source": [
        "HORIZON = 1 # predict 1 step at a time\n",
        "WINDOW_SIZE = 50 # use a week worth of timesteps to predict the horizon"
      ],
      "metadata": {
        "id": "-qPe3dQ1MGC_"
      },
      "execution_count": 14,
      "outputs": []
    },
    {
      "cell_type": "markdown",
      "source": [
        "### Split Data"
      ],
      "metadata": {
        "id": "ZFZmzPgRVUYB"
      }
    },
    {
      "cell_type": "code",
      "source": [
        "# Create function to label windowed data\n",
        "def get_labelled_windows(x, horizon=1):\n",
        "  \"\"\"\n",
        "  Creates labels for windowed dataset.\n",
        "\n",
        "  E.g. if horizon=1 (default)\n",
        "  Input: [1, 2, 3, 4, 5, 6] -> Output: ([1, 2, 3, 4, 5], [6])\n",
        "  \"\"\"\n",
        "  return x[:, :-horizon], x[:, -horizon:]"
      ],
      "metadata": {
        "id": "Ch8o4QALNmPn"
      },
      "execution_count": 15,
      "outputs": []
    },
    {
      "cell_type": "code",
      "source": [
        "# Test out the window labelling function\n",
        "test_windows, test_labels = get_labelled_windows(tf.expand_dims(tf.range(8)+1, axis=0), horizon=HORIZON)\n",
        "print(f\"Window: {tf.squeeze(test_window).numpy()} -> Label: {tf.squeeze(test_label).numpy()}\")"
      ],
      "metadata": {
        "colab": {
          "base_uri": "https://localhost:8080/"
        },
        "id": "8QgUvDDKNqUR",
        "outputId": "90d86126-de31-4ac4-f8d9-85b9373a0a41"
      },
      "execution_count": 16,
      "outputs": [
        {
          "output_type": "stream",
          "name": "stdout",
          "text": [
            "Window: [1 2 3 4 5 6 7] -> Label: 8\n"
          ]
        }
      ]
    },
    {
      "cell_type": "code",
      "source": [
        "# Create function to view NumPy arrays as windows\n",
        "def make_windows(x, window_size=7, horizon=1):\n",
        "  \"\"\"\n",
        "  Turns a 1D array into a 2D array of sequential windows of window_size.\n",
        "  \"\"\"\n",
        "  # 1. Create a window of specific window_size (add the horizon on the end for later labelling)\n",
        "  window_step = np.expand_dims(np.arange(window_size+horizon), axis=0)\n",
        "  # print(f\"Window step:\\n {window_step}\")\n",
        "\n",
        "  # 2. Create a 2D array of multiple window steps (minus 1 to account for 0 indexing)\n",
        "  window_indexes = window_step + np.expand_dims(np.arange(len(x)-(window_size+horizon-1)), axis=0).T # create 2D array of windows of size window_size\n",
        "  # print(f\"Window indexes:\\n {window_indexes[:3], window_indexes[-3:], window_indexes.shape}\")\n",
        "\n",
        "  # 3. Index on the target array (time series) with 2D array of multiple window steps\n",
        "  windowed_array = x[window_indexes]\n",
        "\n",
        "  # 4. Get the labelled windows\n",
        "  windows, labels = get_labelled_windows(windowed_array, horizon=horizon)\n",
        "\n",
        "  return windows, labels"
      ],
      "metadata": {
        "id": "aUO79JMEN2rr"
      },
      "execution_count": 17,
      "outputs": []
    },
    {
      "cell_type": "code",
      "source": [
        "import numpy as np\n",
        "\n",
        "full_windows, full_labels = make_windows(data.values, window_size=50, horizon=HORIZON)\n",
        "len(full_windows), len(full_labels)"
      ],
      "metadata": {
        "colab": {
          "base_uri": "https://localhost:8080/"
        },
        "id": "ph51u98SN4sx",
        "outputId": "cec62796-385d-43da-ad02-d91740c36532"
      },
      "execution_count": 18,
      "outputs": [
        {
          "output_type": "execute_result",
          "data": {
            "text/plain": [
              "(3326, 3326)"
            ]
          },
          "metadata": {},
          "execution_count": 18
        }
      ]
    },
    {
      "cell_type": "code",
      "source": [
        "print(full_windows[0])\n",
        "print(full_labels[0])\n",
        "print(full_windows[1])"
      ],
      "metadata": {
        "colab": {
          "base_uri": "https://localhost:8080/"
        },
        "id": "wphyxsB5N4nh",
        "outputId": "6db47480-9c69-4f42-eb6d-8ac51c8263e4"
      },
      "execution_count": 19,
      "outputs": [
        {
          "output_type": "stream",
          "name": "stdout",
          "text": [
            "[4.4825     4.80666667 5.         5.2525     5.22333333 6.28619048\n",
            " 6.445      6.8        6.95       6.58166667 6.603      7.121875\n",
            " 7.0625     6.9603125  6.41       7.15       6.71428571 6.14166667\n",
            " 6.24472222 6.22571429 6.835      6.386      6.485      6.4075\n",
            " 6.49555556 6.28194444 6.185      5.65142857 4.91       5.696\n",
            " 5.545      5.61902439 5.78875    6.17087719 6.20481481 6.095625\n",
            " 5.83916667 5.52625    5.672      5.74333333 5.78357143 5.87692308\n",
            " 5.605      5.6375     5.64818182 5.1930303  4.94526316 4.57558824\n",
            " 4.6909375  4.39769231]\n",
            "[4.33166667]\n",
            "[4.80666667 5.         5.2525     5.22333333 6.28619048 6.445\n",
            " 6.8        6.95       6.58166667 6.603      7.121875   7.0625\n",
            " 6.9603125  6.41       7.15       6.71428571 6.14166667 6.24472222\n",
            " 6.22571429 6.835      6.386      6.485      6.4075     6.49555556\n",
            " 6.28194444 6.185      5.65142857 4.91       5.696      5.545\n",
            " 5.61902439 5.78875    6.17087719 6.20481481 6.095625   5.83916667\n",
            " 5.52625    5.672      5.74333333 5.78357143 5.87692308 5.605\n",
            " 5.6375     5.64818182 5.1930303  4.94526316 4.57558824 4.6909375\n",
            " 4.39769231 4.33166667]\n"
          ]
        }
      ]
    },
    {
      "cell_type": "code",
      "source": [
        "# View the first 3 windows/labels\n",
        "for i in range(3):\n",
        "  print(f\"Window: {full_windows[i]} -> Label: {full_labels[i]}\")"
      ],
      "metadata": {
        "colab": {
          "base_uri": "https://localhost:8080/"
        },
        "id": "42JceYuTPdH9",
        "outputId": "aa7c8d86-7067-4d91-dd24-65140ebf755c"
      },
      "execution_count": 20,
      "outputs": [
        {
          "output_type": "stream",
          "name": "stdout",
          "text": [
            "Window: [4.4825     4.80666667 5.         5.2525     5.22333333 6.28619048\n",
            " 6.445      6.8        6.95       6.58166667 6.603      7.121875\n",
            " 7.0625     6.9603125  6.41       7.15       6.71428571 6.14166667\n",
            " 6.24472222 6.22571429 6.835      6.386      6.485      6.4075\n",
            " 6.49555556 6.28194444 6.185      5.65142857 4.91       5.696\n",
            " 5.545      5.61902439 5.78875    6.17087719 6.20481481 6.095625\n",
            " 5.83916667 5.52625    5.672      5.74333333 5.78357143 5.87692308\n",
            " 5.605      5.6375     5.64818182 5.1930303  4.94526316 4.57558824\n",
            " 4.6909375  4.39769231] -> Label: [4.33166667]\n",
            "Window: [4.80666667 5.         5.2525     5.22333333 6.28619048 6.445\n",
            " 6.8        6.95       6.58166667 6.603      7.121875   7.0625\n",
            " 6.9603125  6.41       7.15       6.71428571 6.14166667 6.24472222\n",
            " 6.22571429 6.835      6.386      6.485      6.4075     6.49555556\n",
            " 6.28194444 6.185      5.65142857 4.91       5.696      5.545\n",
            " 5.61902439 5.78875    6.17087719 6.20481481 6.095625   5.83916667\n",
            " 5.52625    5.672      5.74333333 5.78357143 5.87692308 5.605\n",
            " 5.6375     5.64818182 5.1930303  4.94526316 4.57558824 4.6909375\n",
            " 4.39769231 4.33166667] -> Label: [4.56071429]\n",
            "Window: [5.         5.2525     5.22333333 6.28619048 6.445      6.8\n",
            " 6.95       6.58166667 6.603      7.121875   7.0625     6.9603125\n",
            " 6.41       7.15       6.71428571 6.14166667 6.24472222 6.22571429\n",
            " 6.835      6.386      6.485      6.4075     6.49555556 6.28194444\n",
            " 6.185      5.65142857 4.91       5.696      5.545      5.61902439\n",
            " 5.78875    6.17087719 6.20481481 6.095625   5.83916667 5.52625\n",
            " 5.672      5.74333333 5.78357143 5.87692308 5.605      5.6375\n",
            " 5.64818182 5.1930303  4.94526316 4.57558824 4.6909375  4.39769231\n",
            " 4.33166667 4.56071429] -> Label: [4.4834375]\n"
          ]
        }
      ]
    },
    {
      "cell_type": "code",
      "source": [
        "# Make the train/test splits\n",
        "def make_train_test_splits(windows, labels, test_split=0.2):\n",
        "  \"\"\"\n",
        "  Splits matching pairs of windows and labels into train and test splits.\n",
        "  \"\"\"\n",
        "  split_size = int(len(windows) * (1-test_split)) # this will default to 80% train/20% test\n",
        "  train_windows = windows[:split_size]\n",
        "  train_labels = labels[:split_size]\n",
        "  test_windows = windows[split_size:]\n",
        "  test_labels = labels[split_size:]\n",
        "  return train_windows, test_windows, train_labels, test_labels"
      ],
      "metadata": {
        "id": "zydUyTuNPr1q"
      },
      "execution_count": 21,
      "outputs": []
    },
    {
      "cell_type": "code",
      "source": [
        "train_windows, test_windows, train_labels, test_labels = make_train_test_splits(full_windows, full_labels, test_split=0.2)\n",
        "len(train_windows), len(test_windows), len(train_labels), len(test_labels)"
      ],
      "metadata": {
        "colab": {
          "base_uri": "https://localhost:8080/"
        },
        "id": "RsyzqZ2ZPtwb",
        "outputId": "6225b5c8-8406-481c-9f00-af428eeb3475"
      },
      "execution_count": 22,
      "outputs": [
        {
          "output_type": "execute_result",
          "data": {
            "text/plain": [
              "(2660, 666, 2660, 666)"
            ]
          },
          "metadata": {},
          "execution_count": 22
        }
      ]
    },
    {
      "cell_type": "code",
      "source": [
        "train_windows[:5,-5:], train_labels[:5]"
      ],
      "metadata": {
        "colab": {
          "base_uri": "https://localhost:8080/"
        },
        "id": "k0McsSv8SDtx",
        "outputId": "250c9443-ab89-4404-b29f-8775f8604228"
      },
      "execution_count": 23,
      "outputs": [
        {
          "output_type": "execute_result",
          "data": {
            "text/plain": [
              "(array([[5.1930303 , 4.94526316, 4.57558824, 4.6909375 , 4.39769231],\n",
              "        [4.94526316, 4.57558824, 4.6909375 , 4.39769231, 4.33166667],\n",
              "        [4.57558824, 4.6909375 , 4.39769231, 4.33166667, 4.56071429],\n",
              "        [4.6909375 , 4.39769231, 4.33166667, 4.56071429, 4.4834375 ],\n",
              "        [4.39769231, 4.33166667, 4.56071429, 4.4834375 , 4.54222222]]),\n",
              " array([[4.33166667],\n",
              "        [4.56071429],\n",
              "        [4.4834375 ],\n",
              "        [4.54222222],\n",
              "        [4.89095238]]))"
            ]
          },
          "metadata": {},
          "execution_count": 23
        }
      ]
    },
    {
      "cell_type": "code",
      "source": [
        "# Check to see if same\n",
        "np.array_equal((train_windows[1,-1:]), train_labels[0])"
      ],
      "metadata": {
        "colab": {
          "base_uri": "https://localhost:8080/"
        },
        "id": "W1vUQgxDSHUj",
        "outputId": "5c013526-949c-4a1c-e41c-fefd610ea09f"
      },
      "execution_count": 24,
      "outputs": [
        {
          "output_type": "execute_result",
          "data": {
            "text/plain": [
              "True"
            ]
          },
          "metadata": {},
          "execution_count": 24
        }
      ]
    },
    {
      "cell_type": "code",
      "source": [
        "print(train_windows[1,-1:])\n",
        "print(train_labels[0])"
      ],
      "metadata": {
        "colab": {
          "base_uri": "https://localhost:8080/"
        },
        "id": "mbijISrzSyY3",
        "outputId": "2d2eeff5-cad2-4206-e952-65fbf0f9f4d7"
      },
      "execution_count": 25,
      "outputs": [
        {
          "output_type": "stream",
          "name": "stdout",
          "text": [
            "[4.33166667]\n",
            "[4.33166667]\n"
          ]
        }
      ]
    },
    {
      "cell_type": "markdown",
      "source": [
        "## Modelling"
      ],
      "metadata": {
        "id": "G0J3NC6XVMKJ"
      }
    },
    {
      "cell_type": "markdown",
      "source": [
        "### Make a modelling checkpoint"
      ],
      "metadata": {
        "id": "8OsIrjOKU5aN"
      }
    },
    {
      "cell_type": "code",
      "source": [
        "import os\n",
        "\n",
        "# Create a function to implement a ModelCheckpoint callback with a specific filename\n",
        "def create_model_checkpoint(model_name, save_path=\"model_experiments\"):\n",
        "  return tf.keras.callbacks.ModelCheckpoint(filepath=os.path.join(save_path, model_name), # create filepath to save model\n",
        "                                            verbose=0, # only output a limited amount of text\n",
        "                                            save_best_only=True) # save only the best model to file"
      ],
      "metadata": {
        "id": "p2uESVz6U52W"
      },
      "execution_count": 26,
      "outputs": []
    },
    {
      "cell_type": "markdown",
      "source": [
        "### Model 1: RNN"
      ],
      "metadata": {
        "id": "p0ar6xliVb-P"
      }
    },
    {
      "cell_type": "code",
      "source": [
        "from keras.models import Model\n",
        "from keras.layers import Dense, SimpleRNN, Dropout, Flatten, Input\n",
        "\n",
        "input_shape = (train_windows.shape[1], 1)\n",
        "\n",
        "# Input layer\n",
        "inputs = Input(shape=input_shape)\n",
        "\n",
        "# First RNN layer\n",
        "x = SimpleRNN(128, activation=\"relu\", return_sequences=True)(inputs)\n",
        "x = Dropout(0.25)(x)\n",
        "\n",
        "# Second RNN layer\n",
        "x = SimpleRNN(256, activation=\"relu\", return_sequences=True)(x)\n",
        "x = Dropout(0.25)(x)\n",
        "\n",
        "# Third RNN layer\n",
        "x = SimpleRNN(512, activation=\"relu\", return_sequences=True)(x)\n",
        "x = Dropout(0.35)(x)\n",
        "\n",
        "# Fourth RNN layer\n",
        "x = SimpleRNN(256, activation=\"relu\", return_sequences=True)(x)\n",
        "x = Dropout(0.25)(x)\n",
        "\n",
        "# Fifth RNN layer\n",
        "x = SimpleRNN(128, activation=\"relu\", return_sequences=True)(x)\n",
        "x = Dropout(0.25)(x)\n",
        "\n",
        "# Convert the matrix to 1-line\n",
        "x = Flatten()(x)\n",
        "\n",
        "# Output layer\n",
        "outputs = Dense(1)(x)\n",
        "\n",
        "# Create the model\n",
        "model_1 = Model(inputs=inputs, outputs=outputs)\n",
        "\n",
        "model_1.compile(optimizer=\"adam\", loss=\"mean_squared_error\")\n",
        "model_1.fit(train_windows, train_labels, epochs=25, batch_size=64,\n",
        "            validation_data=(test_windows, test_labels),\n",
        "            callbacks=[create_model_checkpoint(model_name=model_1.name)])\n"
      ],
      "metadata": {
        "colab": {
          "base_uri": "https://localhost:8080/"
        },
        "id": "Ngb00NqZWY4m",
        "outputId": "48437afd-a0c0-45ab-d0b5-262749d15a2c"
      },
      "execution_count": 85,
      "outputs": [
        {
          "output_type": "stream",
          "name": "stdout",
          "text": [
            "Epoch 1/25\n",
            "42/42 [==============================] - 24s 419ms/step - loss: 4410816.0000 - val_loss: 84577920.0000\n",
            "Epoch 2/25\n",
            "42/42 [==============================] - 17s 410ms/step - loss: 903259.4375 - val_loss: 39255444.0000\n",
            "Epoch 3/25\n",
            "42/42 [==============================] - 25s 602ms/step - loss: 529130.6875 - val_loss: 30258398.0000\n",
            "Epoch 4/25\n",
            "42/42 [==============================] - 16s 391ms/step - loss: 533007.1875 - val_loss: 41410592.0000\n",
            "Epoch 5/25\n",
            "42/42 [==============================] - 12s 292ms/step - loss: 360780.9375 - val_loss: 54421484.0000\n",
            "Epoch 6/25\n",
            "42/42 [==============================] - 18s 428ms/step - loss: 368699.0625 - val_loss: 23681718.0000\n",
            "Epoch 7/25\n",
            "42/42 [==============================] - 10s 242ms/step - loss: 455356.7812 - val_loss: 40735252.0000\n",
            "Epoch 8/25\n",
            "42/42 [==============================] - 16s 395ms/step - loss: 453056.3750 - val_loss: 20106646.0000\n",
            "Epoch 9/25\n",
            "42/42 [==============================] - 10s 246ms/step - loss: 393486.8125 - val_loss: 26333694.0000\n",
            "Epoch 10/25\n",
            "42/42 [==============================] - 11s 253ms/step - loss: 343802.2188 - val_loss: 44066140.0000\n",
            "Epoch 11/25\n",
            "42/42 [==============================] - 9s 222ms/step - loss: 277450.3438 - val_loss: 23385876.0000\n",
            "Epoch 12/25\n",
            "42/42 [==============================] - 10s 249ms/step - loss: 277976.2188 - val_loss: 29296304.0000\n",
            "Epoch 13/25\n",
            "42/42 [==============================] - 17s 406ms/step - loss: 408467.4062 - val_loss: 19803716.0000\n",
            "Epoch 14/25\n",
            "42/42 [==============================] - 9s 224ms/step - loss: 247113.4531 - val_loss: 39757164.0000\n",
            "Epoch 15/25\n",
            "42/42 [==============================] - 11s 253ms/step - loss: 313072.5625 - val_loss: 23532774.0000\n",
            "Epoch 16/25\n",
            "42/42 [==============================] - 10s 251ms/step - loss: 241822.2500 - val_loss: 63608432.0000\n",
            "Epoch 17/25\n",
            "42/42 [==============================] - 10s 243ms/step - loss: 242060.5156 - val_loss: 50459028.0000\n",
            "Epoch 18/25\n",
            "42/42 [==============================] - 10s 242ms/step - loss: 220923.0469 - val_loss: 34607988.0000\n",
            "Epoch 19/25\n",
            "42/42 [==============================] - 9s 221ms/step - loss: 219316.0469 - val_loss: 38128008.0000\n",
            "Epoch 20/25\n",
            "42/42 [==============================] - 11s 263ms/step - loss: 213926.1875 - val_loss: 42190232.0000\n",
            "Epoch 21/25\n",
            "42/42 [==============================] - 10s 243ms/step - loss: 219507.3750 - val_loss: 25578060.0000\n",
            "Epoch 22/25\n",
            "42/42 [==============================] - 10s 245ms/step - loss: 205667.1094 - val_loss: 40058492.0000\n",
            "Epoch 23/25\n",
            "42/42 [==============================] - 11s 254ms/step - loss: 197143.0781 - val_loss: 37776528.0000\n",
            "Epoch 24/25\n",
            "42/42 [==============================] - 10s 248ms/step - loss: 246907.7656 - val_loss: 39071584.0000\n",
            "Epoch 25/25\n",
            "42/42 [==============================] - 10s 238ms/step - loss: 248541.3750 - val_loss: 49349240.0000\n"
          ]
        },
        {
          "output_type": "execute_result",
          "data": {
            "text/plain": [
              "<keras.callbacks.History at 0x7f09eb481f60>"
            ]
          },
          "metadata": {},
          "execution_count": 85
        }
      ]
    },
    {
      "cell_type": "code",
      "source": [
        "# Evaluate model on test data\n",
        "model_1.evaluate(test_windows, test_labels)"
      ],
      "metadata": {
        "colab": {
          "base_uri": "https://localhost:8080/"
        },
        "id": "Gfjftd39Yu7z",
        "outputId": "3dea81ef-61f3-4966-e76b-18bce0bc55d5"
      },
      "execution_count": 86,
      "outputs": [
        {
          "output_type": "stream",
          "name": "stdout",
          "text": [
            "21/21 [==============================] - 0s 22ms/step - loss: 49349240.0000\n"
          ]
        },
        {
          "output_type": "execute_result",
          "data": {
            "text/plain": [
              "49349240.0"
            ]
          },
          "metadata": {},
          "execution_count": 86
        }
      ]
    },
    {
      "cell_type": "code",
      "source": [
        "# Load in saved best performing model_1 and evaluate on test data\n",
        "model_1 = tf.keras.models.load_model(\"/content/model_experiments/model_1\")\n",
        "model_1.evaluate(test_windows, test_labels)"
      ],
      "metadata": {
        "colab": {
          "base_uri": "https://localhost:8080/"
        },
        "id": "JDz7P1UTY66T",
        "outputId": "abbde934-d8b7-4ed9-cc21-f887ef19a4da"
      },
      "execution_count": 100,
      "outputs": [
        {
          "output_type": "stream",
          "name": "stdout",
          "text": [
            "21/21 [==============================] - 1s 21ms/step - loss: 19803714.0000\n"
          ]
        },
        {
          "output_type": "execute_result",
          "data": {
            "text/plain": [
              "19803714.0"
            ]
          },
          "metadata": {},
          "execution_count": 100
        }
      ]
    },
    {
      "cell_type": "code",
      "source": [
        "def make_preds(model, input_data):\n",
        "  \"\"\"\n",
        "  Uses model to make predictions on input_data.\n",
        "\n",
        "  Parameters\n",
        "  ----------\n",
        "  model: trained model\n",
        "  input_data: windowed input data (same kind of data model was trained on)\n",
        "\n",
        "  Returns model predictions on input_data.\n",
        "  \"\"\"\n",
        "  forecast = model.predict(input_data)\n",
        "  return tf.squeeze(forecast) # return 1D array of predictions"
      ],
      "metadata": {
        "id": "Pe7aeRb6ZOKk"
      },
      "execution_count": 101,
      "outputs": []
    },
    {
      "cell_type": "code",
      "source": [
        "# Make predictions using model_1 on the test dataset and view the results\n",
        "model_1_preds = make_preds(model_1, test_windows)\n",
        "len(model_1_preds), model_1_preds[:10]"
      ],
      "metadata": {
        "colab": {
          "base_uri": "https://localhost:8080/"
        },
        "id": "yr4e70mqZMPr",
        "outputId": "8ab09207-afe0-4b62-9e1b-0e2547822095"
      },
      "execution_count": 102,
      "outputs": [
        {
          "output_type": "stream",
          "name": "stdout",
          "text": [
            "21/21 [==============================] - 1s 22ms/step\n"
          ]
        },
        {
          "output_type": "execute_result",
          "data": {
            "text/plain": [
              "(666,\n",
              " <tf.Tensor: shape=(10,), dtype=float32, numpy=\n",
              " array([6771.8887, 6641.4834, 6538.2534, 6507.7266, 6498.7197, 6469.3926,\n",
              "        6438.3027, 6447.1714, 6473.344 , 6500.9575], dtype=float32)>)"
            ]
          },
          "metadata": {},
          "execution_count": 102
        }
      ]
    },
    {
      "cell_type": "code",
      "source": [
        "plt.figure(figsize=(8,4), dpi=80, facecolor='w', edgecolor='k')\n",
        "plt.plot(test_labels,color=\"r\",label=\"true result\")\n",
        "plt.plot(model_1_preds,color=\"b\",label=\"predicted result\")\n",
        "plt.legend()\n",
        "plt.xlabel(\"Time(50 days)\")\n",
        "plt.ylabel(\"Close Values\")\n",
        "plt.grid(True)\n",
        "plt.show()"
      ],
      "metadata": {
        "colab": {
          "base_uri": "https://localhost:8080/",
          "height": 311
        },
        "id": "ebT2sFkPZQIV",
        "outputId": "33b1077e-51ac-4aaa-b2be-e185b73efca6"
      },
      "execution_count": 103,
      "outputs": [
        {
          "output_type": "display_data",
          "data": {
            "text/plain": [
              "<Figure size 640x320 with 1 Axes>"
            ],
            "image/png": "[encoded data removed]"
          },
          "metadata": {}
        }
      ]
    },
    {
      "cell_type": "code",
      "source": [
        "# MASE implemented courtesy of sktime - https://github.com/alan-turing-institute/sktime/blob/ee7a06843a44f4aaec7582d847e36073a9ab0566/sktime/performance_metrics/forecasting/_functions.py#L16\n",
        "def mean_absolute_scaled_error(y_true, y_pred):\n",
        "  \"\"\"\n",
        "  Implement MASE (assuming no seasonality of data).\n",
        "  \"\"\"\n",
        "  mae = tf.reduce_mean(tf.abs(y_true - y_pred))\n",
        "\n",
        "  # Find MAE of naive forecast (no seasonality)\n",
        "  mae_naive_no_season = tf.reduce_mean(tf.abs(y_true[1:] - y_true[:-1])) # our seasonality is 1 day (hence the shifting of 1 day)\n",
        "\n",
        "  return mae / mae_naive_no_season"
      ],
      "metadata": {
        "id": "NNkG7uxpa49L"
      },
      "execution_count": 104,
      "outputs": []
    },
    {
      "cell_type": "code",
      "source": [
        "def evaluate_preds(y_true, y_pred):\n",
        "  # Make sure float32 (for metric calculations)\n",
        "  y_true = tf.cast(y_true, dtype=tf.float32)\n",
        "  y_pred = tf.cast(y_pred, dtype=tf.float32)\n",
        "\n",
        "  # Calculate various metrics\n",
        "  mae = tf.keras.metrics.mean_absolute_error(y_true, y_pred)\n",
        "  mse = tf.keras.metrics.mean_squared_error(y_true, y_pred)\n",
        "  rmse = tf.sqrt(mse)\n",
        "  mape = tf.keras.metrics.mean_absolute_percentage_error(y_true, y_pred)\n",
        "  mase = mean_absolute_scaled_error(y_true, y_pred)\n",
        "\n",
        "  # Account for different sized metrics (for longer horizons, reduce to single number)\n",
        "  if mae.ndim > 0: # if mae isn't already a scalar, reduce it to one by aggregating tensors to mean\n",
        "    mae = tf.reduce_mean(mae)\n",
        "    mse = tf.reduce_mean(mse)\n",
        "    rmse = tf.reduce_mean(rmse)\n",
        "    mape = tf.reduce_mean(mape)\n",
        "    mase = tf.reduce_mean(mase)\n",
        "\n",
        "  return {\"mae\": mae.numpy(),\n",
        "          \"mse\": mse.numpy(),\n",
        "          \"rmse\": rmse.numpy(),\n",
        "          \"mape\": mape.numpy(),\n",
        "          \"mase\": mase.numpy()}"
      ],
      "metadata": {
        "id": "vVyjDwP6a1ZC"
      },
      "execution_count": 105,
      "outputs": []
    },
    {
      "cell_type": "code",
      "source": [
        "# Evaluate preds\n",
        "model_1_results = evaluate_preds(y_true=tf.squeeze(test_labels), # reduce to right shape\n",
        "                                 y_pred=model_1_preds)\n",
        "model_1_results"
      ],
      "metadata": {
        "colab": {
          "base_uri": "https://localhost:8080/"
        },
        "id": "_u3Jy2zGa9Ge",
        "outputId": "fa080092-8ccf-4ce8-87f3-0fe401ec758d"
      },
      "execution_count": 106,
      "outputs": [
        {
          "output_type": "execute_result",
          "data": {
            "text/plain": [
              "{'mae': 3170.4219,\n",
              " 'mse': 19803716.0,\n",
              " 'rmse': 4450.1367,\n",
              " 'mape': 20.01894,\n",
              " 'mase': 8.433455}"
            ]
          },
          "metadata": {},
          "execution_count": 106
        }
      ]
    },
    {
      "cell_type": "markdown",
      "source": [
        "### Model 2: LSTM"
      ],
      "metadata": {
        "id": "bPsd4S4DbJn8"
      }
    },
    {
      "cell_type": "code",
      "source": [
        "import tensorflow as tf\n",
        "from tensorflow.keras import layers\n",
        "\n",
        "# Let's build an LSTM model with the Functional API\n",
        "inputs = layers.Input(shape=(WINDOW_SIZE))\n",
        "x = layers.Lambda(lambda x: tf.expand_dims(x, axis=1))(inputs) # expand input dimension to be compatible with LSTM\n",
        "\n",
        "# print(x.shape)\n",
        "\n",
        "# x = layers.LSTM(128, activation=\"relu\", return_sequences=True)(x) # this layer will error if the inputs are not the right shape\n",
        "x = layers.LSTM(128, activation=\"relu\")(x) # using the tanh loss function results in a massive error\n",
        "# print(x.shape)\n",
        "# Add another optional dense layer (you could add more of these to see if they improve model performance)\n",
        "\n",
        "# x = layers.Dense(32, activation=\"relu\")(x)\n",
        "\n",
        "output = layers.Dense(HORIZON)(x)\n",
        "\n",
        "model_2 = tf.keras.Model(inputs=inputs, outputs=output, name=\"model_2\")\n",
        "\n",
        "model_2.compile(loss=\"mean_squared_error\",optimizer=\"adam\")\n",
        "\n",
        "model_2.fit(train_windows,\n",
        "            train_labels,\n",
        "            epochs=25,\n",
        "            batch_size=64,\n",
        "            validation_data=(test_windows, test_labels),\n",
        "            callbacks=[create_model_checkpoint(model_name=\"model_2\")])"
      ],
      "metadata": {
        "colab": {
          "base_uri": "https://localhost:8080/"
        },
        "id": "Nd9q26FnbJVm",
        "outputId": "6a1b8c42-90c5-45ca-f971-a4e88e75338a"
      },
      "execution_count": 74,
      "outputs": [
        {
          "output_type": "stream",
          "name": "stderr",
          "text": [
            "WARNING:tensorflow:Layer lstm_2 will not use cuDNN kernels since it doesn't meet the criteria. It will use a generic GPU kernel as fallback when running on GPU.\n"
          ]
        },
        {
          "output_type": "stream",
          "name": "stdout",
          "text": [
            "Epoch 1/25\n",
            "42/42 [==============================] - 4s 50ms/step - loss: 1808624.6250 - val_loss: 6503321.0000\n",
            "Epoch 2/25\n",
            "42/42 [==============================] - 0s 6ms/step - loss: 424576.1875 - val_loss: 6984816.0000\n",
            "Epoch 3/25\n",
            "42/42 [==============================] - 2s 60ms/step - loss: 280961.3125 - val_loss: 3647051.7500\n",
            "Epoch 4/25\n",
            "42/42 [==============================] - 2s 45ms/step - loss: 219967.9062 - val_loss: 3438968.2500\n",
            "Epoch 5/25\n",
            "42/42 [==============================] - 2s 45ms/step - loss: 197686.6250 - val_loss: 2750325.2500\n",
            "Epoch 6/25\n",
            "42/42 [==============================] - 2s 53ms/step - loss: 196534.1406 - val_loss: 2527586.5000\n",
            "Epoch 7/25\n",
            "42/42 [==============================] - 0s 11ms/step - loss: 163256.2656 - val_loss: 2604448.5000\n",
            "Epoch 8/25\n",
            "42/42 [==============================] - 0s 11ms/step - loss: 157993.5469 - val_loss: 3300821.2500\n",
            "Epoch 9/25\n",
            "42/42 [==============================] - 2s 49ms/step - loss: 136287.0625 - val_loss: 2448473.2500\n",
            "Epoch 10/25\n",
            "42/42 [==============================] - 0s 6ms/step - loss: 128121.6875 - val_loss: 2627869.5000\n",
            "Epoch 11/25\n",
            "42/42 [==============================] - 0s 6ms/step - loss: 129144.7344 - val_loss: 3614092.0000\n",
            "Epoch 12/25\n",
            "42/42 [==============================] - 2s 45ms/step - loss: 134021.0469 - val_loss: 2033770.6250\n",
            "Epoch 13/25\n",
            "42/42 [==============================] - 2s 61ms/step - loss: 111094.2109 - val_loss: 1968591.0000\n",
            "Epoch 14/25\n",
            "42/42 [==============================] - 0s 6ms/step - loss: 114471.1562 - val_loss: 2616687.7500\n",
            "Epoch 15/25\n",
            "42/42 [==============================] - 2s 46ms/step - loss: 129244.8516 - val_loss: 1808181.3750\n",
            "Epoch 16/25\n",
            "42/42 [==============================] - 0s 6ms/step - loss: 111141.5469 - val_loss: 1842240.0000\n",
            "Epoch 17/25\n",
            "42/42 [==============================] - 0s 6ms/step - loss: 102520.2422 - val_loss: 4557958.5000\n",
            "Epoch 18/25\n",
            "42/42 [==============================] - 0s 6ms/step - loss: 107181.9688 - val_loss: 2226043.0000\n",
            "Epoch 19/25\n",
            "42/42 [==============================] - 0s 6ms/step - loss: 90346.1875 - val_loss: 1875398.0000\n",
            "Epoch 20/25\n",
            "42/42 [==============================] - 0s 6ms/step - loss: 86874.1172 - val_loss: 2621749.5000\n",
            "Epoch 21/25\n",
            "42/42 [==============================] - 3s 63ms/step - loss: 99320.1250 - val_loss: 1464885.6250\n",
            "Epoch 22/25\n",
            "42/42 [==============================] - 0s 6ms/step - loss: 84486.8594 - val_loss: 2314442.5000\n",
            "Epoch 23/25\n",
            "42/42 [==============================] - 0s 6ms/step - loss: 79896.9844 - val_loss: 2060027.0000\n",
            "Epoch 24/25\n",
            "42/42 [==============================] - 0s 6ms/step - loss: 80311.3359 - val_loss: 1756465.3750\n",
            "Epoch 25/25\n",
            "42/42 [==============================] - 0s 6ms/step - loss: 100852.2734 - val_loss: 1474528.0000\n"
          ]
        },
        {
          "output_type": "execute_result",
          "data": {
            "text/plain": [
              "<keras.callbacks.History at 0x7f09ea816c20>"
            ]
          },
          "metadata": {},
          "execution_count": 74
        }
      ]
    },
    {
      "cell_type": "code",
      "source": [
        "# Evaluate model on test data\n",
        "model_2.evaluate(test_windows, test_labels)"
      ],
      "metadata": {
        "colab": {
          "base_uri": "https://localhost:8080/"
        },
        "outputId": "fed2ff75-da36-4389-bef0-660fd564478b",
        "id": "GWEqoXD0cjtA"
      },
      "execution_count": 75,
      "outputs": [
        {
          "output_type": "stream",
          "name": "stdout",
          "text": [
            "21/21 [==============================] - 0s 2ms/step - loss: 1474528.2500\n"
          ]
        },
        {
          "output_type": "execute_result",
          "data": {
            "text/plain": [
              "1474528.25"
            ]
          },
          "metadata": {},
          "execution_count": 75
        }
      ]
    },
    {
      "cell_type": "code",
      "source": [
        "# Load in saved best performing model_1 and evaluate on test data\n",
        "model_2 = tf.keras.models.load_model(\"model_experiments/model_2\")\n",
        "model_2.evaluate(test_windows, test_labels)"
      ],
      "metadata": {
        "colab": {
          "base_uri": "https://localhost:8080/"
        },
        "outputId": "63cccd5c-d110-41d8-cd96-235211fe2713",
        "id": "6wj-KWbAcjtH"
      },
      "execution_count": 78,
      "outputs": [
        {
          "output_type": "stream",
          "name": "stderr",
          "text": [
            "WARNING:tensorflow:Layer lstm_2 will not use cuDNN kernels since it doesn't meet the criteria. It will use a generic GPU kernel as fallback when running on GPU.\n"
          ]
        },
        {
          "output_type": "stream",
          "name": "stdout",
          "text": [
            "21/21 [==============================] - 0s 2ms/step - loss: 1464885.0000\n"
          ]
        },
        {
          "output_type": "execute_result",
          "data": {
            "text/plain": [
              "1464885.0"
            ]
          },
          "metadata": {},
          "execution_count": 78
        }
      ]
    },
    {
      "cell_type": "code",
      "source": [
        "# Make predictions using model_1 on the test dataset and view the results\n",
        "model_2_preds = make_preds(model_2, test_windows)\n",
        "len(model_2_preds), model_2_preds[:10]"
      ],
      "metadata": {
        "colab": {
          "base_uri": "https://localhost:8080/"
        },
        "outputId": "b4228122-8cd7-4c6a-b8d5-9584f210c680",
        "id": "vqh3IptTcjtH"
      },
      "execution_count": 79,
      "outputs": [
        {
          "output_type": "stream",
          "name": "stdout",
          "text": [
            "21/21 [==============================] - 0s 2ms/step\n"
          ]
        },
        {
          "output_type": "execute_result",
          "data": {
            "text/plain": [
              "(666,\n",
              " <tf.Tensor: shape=(10,), dtype=float32, numpy=\n",
              " array([8358.424 , 8242.882 , 8022.0947, 7916.5244, 7871.824 , 7816.0513,\n",
              "        7815.2964, 7715.8223, 7612.336 , 7790.053 ], dtype=float32)>)"
            ]
          },
          "metadata": {},
          "execution_count": 79
        }
      ]
    },
    {
      "cell_type": "code",
      "source": [
        "plt.figure(figsize=(8,4), dpi=80, facecolor='w', edgecolor='k')\n",
        "plt.plot(test_labels,color=\"r\",label=\"true result\")\n",
        "plt.plot(model_2_preds,color=\"b\",label=\"predicted result\")\n",
        "plt.legend()\n",
        "plt.xlabel(\"Time(50 days)\")\n",
        "plt.ylabel(\"Close Values\")\n",
        "plt.grid(True)\n",
        "plt.show()"
      ],
      "metadata": {
        "colab": {
          "base_uri": "https://localhost:8080/",
          "height": 311
        },
        "outputId": "539b9999-eb07-4e4c-8173-3924a2fad70d",
        "id": "Il9UzT2ZcjtH"
      },
      "execution_count": 80,
      "outputs": [
        {
          "output_type": "display_data",
          "data": {
            "text/plain": [
              "<Figure size 640x320 with 1 Axes>"
            ],
            "image/png": "[encoded data removed]"
          },
          "metadata": {}
        }
      ]
    },
    {
      "cell_type": "code",
      "source": [
        "# Evaluate preds\n",
        "model_2_results = evaluate_preds(y_true=tf.squeeze(test_labels), # reduce to right shape\n",
        "                                 y_pred=model_2_preds)\n",
        "model_2_results"
      ],
      "metadata": {
        "colab": {
          "base_uri": "https://localhost:8080/"
        },
        "outputId": "60f748c9-cc53-423f-eb70-0ed6cc980606",
        "id": "dnqvEd00cjtI"
      },
      "execution_count": 81,
      "outputs": [
        {
          "output_type": "execute_result",
          "data": {
            "text/plain": [
              "{'mae': 660.5167,\n",
              " 'mse': 1464885.1,\n",
              " 'rmse': 1210.3243,\n",
              " 'mape': 3.9793246,\n",
              " 'mase': 1.7570024}"
            ]
          },
          "metadata": {},
          "execution_count": 81
        }
      ]
    },
    {
      "cell_type": "markdown",
      "source": [
        "## Compare Models"
      ],
      "metadata": {
        "id": "zjoG5tFEgkdC"
      }
    },
    {
      "cell_type": "code",
      "source": [
        "import matplotlib.pyplot as plt\n",
        "\n",
        "# Membuat figure dan axes\n",
        "fig, (ax1, ax2) = plt.subplots(1, 2, figsize=(12, 6))\n",
        "\n",
        "# Plot pertama\n",
        "ax1.plot(test_labels, color=\"r\", label=\"true result\")\n",
        "ax1.plot(model_1_preds, color=\"b\", label=\"predicted result\")\n",
        "ax1.legend()\n",
        "ax1.set_xlabel(\"Time (50 days)\")\n",
        "ax1.set_ylabel(\"Close Values\")\n",
        "ax1.set_title(\"Model 1 RNN\")\n",
        "ax1.grid(True)\n",
        "\n",
        "# Plot kedua\n",
        "ax2.plot(test_labels, color=\"r\", label=\"true result\")\n",
        "ax2.plot(model_2_preds, color=\"b\", label=\"predicted result\")\n",
        "ax2.legend()\n",
        "ax2.set_xlabel(\"Time (50 days)\")\n",
        "ax2.set_ylabel(\"Close Values\")\n",
        "ax2.set_title(\"Model 2 LSTM\")\n",
        "ax2.grid(True)\n",
        "\n",
        "# Menampilkan plot\n",
        "plt.tight_layout()\n",
        "plt.show()"
      ],
      "metadata": {
        "colab": {
          "base_uri": "https://localhost:8080/",
          "height": 607
        },
        "id": "z27ts9mPiY_Y",
        "outputId": "194b1f04-3272-47a2-9da1-06ed1fc56bae"
      },
      "execution_count": 115,
      "outputs": [
        {
          "output_type": "display_data",
          "data": {
            "text/plain": [
              "<Figure size 1200x600 with 2 Axes>"
            ],
            "image/png": "[encoded data removed]"
          },
          "metadata": {}
        }
      ]
    },
    {
      "cell_type": "code",
      "source": [
        "# Compare different model results (w = window, h = horizon, e.g. w=7 means a window size of 7)\n",
        "model_results = pd.DataFrame({\"model 1 (RNN)\": model_1_results,\n",
        "                              \"model 2 (LSTM)\": model_2_results}).T\n",
        "model_results.head(10)"
      ],
      "metadata": {
        "colab": {
          "base_uri": "https://localhost:8080/",
          "height": 112
        },
        "id": "fnWiXRqhgkvr",
        "outputId": "845b1451-2122-45ee-fcf5-d501a18ed2be"
      },
      "execution_count": 137,
      "outputs": [
        {
          "output_type": "execute_result",
          "data": {
            "text/plain": [
              "                      mae         mse       rmse       mape      mase\n",
              "model 1 (RNN)   3170.4219  19803716.0  4450.1367  20.018940  8.433455\n",
              "model 2 (LSTM)   660.5167   1464885.1  1210.3243   3.979325  1.757002"
            ],
            "text/html": [
              "\n",
              "  <div id=\"df-d5c002db-1f51-443d-ae68-8290ae17c239\">\n",
              "    <div class=\"colab-df-container\">\n",
              "      <div>\n",
              "<style scoped>\n",
              "    .dataframe tbody tr th:only-of-type {\n",
              "        vertical-align: middle;\n",
              "    }\n",
              "\n",
              "    .dataframe tbody tr th {\n",
              "        vertical-align: top;\n",
              "    }\n",
              "\n",
              "    .dataframe thead th {\n",
              "        text-align: right;\n",
              "    }\n",
              "</style>\n",
              "<table border=\"1\" class=\"dataframe\">\n",
              "  <thead>\n",
              "    <tr style=\"text-align: right;\">\n",
              "      <th></th>\n",
              "      <th>mae</th>\n",
              "      <th>mse</th>\n",
              "      <th>rmse</th>\n",
              "      <th>mape</th>\n",
              "      <th>mase</th>\n",
              "    </tr>\n",
              "  </thead>\n",
              "  <tbody>\n",
              "    <tr>\n",
              "      <th>model 1 (RNN)</th>\n",
              "      <td>3170.4219</td>\n",
              "      <td>19803716.0</td>\n",
              "      <td>4450.1367</td>\n",
              "      <td>20.018940</td>\n",
              "      <td>8.433455</td>\n",
              "    </tr>\n",
              "    <tr>\n",
              "      <th>model 2 (LSTM)</th>\n",
              "      <td>660.5167</td>\n",
              "      <td>1464885.1</td>\n",
              "      <td>1210.3243</td>\n",
              "      <td>3.979325</td>\n",
              "      <td>1.757002</td>\n",
              "    </tr>\n",
              "  </tbody>\n",
              "</table>\n",
              "</div>\n",
              "      <button class=\"colab-df-convert\" onclick=\"convertToInteractive('df-d5c002db-1f51-443d-ae68-8290ae17c239')\"\n",
              "              title=\"Convert this dataframe to an interactive table.\"\n",
              "              style=\"display:none;\">\n",
              "        \n",
              "  <svg xmlns=\"http://www.w3.org/2000/svg\" height=\"24px\"viewBox=\"0 0 24 24\"\n",
              "       width=\"24px\">\n",
              "    <path d=\"M0 0h24v24H0V0z\" fill=\"none\"/>\n",
              "    <path d=\"M18.56 5.44l.94 2.06.94-2.06 2.06-.94-2.06-.94-.94-2.06-.94 2.06-2.06.94zm-11 1L8.5 8.5l.94-2.06 2.06-.94-2.06-.94L8.5 2.5l-.94 2.06-2.06.94zm10 10l.94 2.06.94-2.06 2.06-.94-2.06-.94-.94-2.06-.94 2.06-2.06.94z\"/><path d=\"M17.41 7.96l-1.37-1.37c-.4-.4-.92-.59-1.43-.59-.52 0-1.04.2-1.43.59L10.3 9.45l-7.72 7.72c-.78.78-.78 2.05 0 2.83L4 21.41c.39.39.9.59 1.41.59.51 0 1.02-.2 1.41-.59l7.78-7.78 2.81-2.81c.8-.78.8-2.07 0-2.86zM5.41 20L4 18.59l7.72-7.72 1.47 1.35L5.41 20z\"/>\n",
              "  </svg>\n",
              "      </button>\n",
              "      \n",
              "  <style>\n",
              "    .colab-df-container {\n",
              "      display:flex;\n",
              "      flex-wrap:wrap;\n",
              "      gap: 12px;\n",
              "    }\n",
              "\n",
              "    .colab-df-convert {\n",
              "      background-color: #E8F0FE;\n",
              "      border: none;\n",
              "      border-radius: 50%;\n",
              "      cursor: pointer;\n",
              "      display: none;\n",
              "      fill: #1967D2;\n",
              "      height: 32px;\n",
              "      padding: 0 0 0 0;\n",
              "      width: 32px;\n",
              "    }\n",
              "\n",
              "    .colab-df-convert:hover {\n",
              "      background-color: #E2EBFA;\n",
              "      box-shadow: 0px 1px 2px rgba(60, 64, 67, 0.3), 0px 1px 3px 1px rgba(60, 64, 67, 0.15);\n",
              "      fill: #174EA6;\n",
              "    }\n",
              "\n",
              "    [theme=dark] .colab-df-convert {\n",
              "      background-color: #3B4455;\n",
              "      fill: #D2E3FC;\n",
              "    }\n",
              "\n",
              "    [theme=dark] .colab-df-convert:hover {\n",
              "      background-color: #434B5C;\n",
              "      box-shadow: 0px 1px 3px 1px rgba(0, 0, 0, 0.15);\n",
              "      filter: drop-shadow(0px 1px 2px rgba(0, 0, 0, 0.3));\n",
              "      fill: #FFFFFF;\n",
              "    }\n",
              "  </style>\n",
              "\n",
              "      <script>\n",
              "        const buttonEl =\n",
              "          document.querySelector('#df-d5c002db-1f51-443d-ae68-8290ae17c239 button.colab-df-convert');\n",
              "        buttonEl.style.display =\n",
              "          google.colab.kernel.accessAllowed ? 'block' : 'none';\n",
              "\n",
              "        async function convertToInteractive(key) {\n",
              "          const element = document.querySelector('#df-d5c002db-1f51-443d-ae68-8290ae17c239');\n",
              "          const dataTable =\n",
              "            await google.colab.kernel.invokeFunction('convertToInteractive',\n",
              "                                                     [key], {});\n",
              "          if (!dataTable) return;\n",
              "\n",
              "          const docLinkHtml = 'Like what you see? Visit the ' +\n",
              "            '<a target=\"_blank\" href=https://colab.research.google.com/notebooks/data_table.ipynb>data table notebook</a>'\n",
              "            + ' to learn more about interactive tables.';\n",
              "          element.innerHTML = '';\n",
              "          dataTable['output_type'] = 'display_data';\n",
              "          await google.colab.output.renderOutput(dataTable, element);\n",
              "          const docLink = document.createElement('div');\n",
              "          docLink.innerHTML = docLinkHtml;\n",
              "          element.appendChild(docLink);\n",
              "        }\n",
              "      </script>\n",
              "    </div>\n",
              "  </div>\n",
              "  "
            ]
          },
          "metadata": {},
          "execution_count": 137
        }
      ]
    },
    {
      "cell_type": "code",
      "source": [
        "# Sort model results by MAE and plot them\n",
        "model_results[[\"mae\"]].sort_values(by=\"mae\").plot(figsize=(10, 7), kind=\"bar\");"
      ],
      "metadata": {
        "colab": {
          "base_uri": "https://localhost:8080/",
          "height": 694
        },
        "id": "awkxY9OWlKPb",
        "outputId": "6e6a5c33-3a3d-4b25-a19e-676d3d63d6ee"
      },
      "execution_count": 138,
      "outputs": [
        {
          "output_type": "display_data",
          "data": {
            "text/plain": [
              "<Figure size 1000x700 with 1 Axes>"
            ],
            "image/png": "[encoded data removed]"
          },
          "metadata": {}
        }
      ]
    }
  ]
}
